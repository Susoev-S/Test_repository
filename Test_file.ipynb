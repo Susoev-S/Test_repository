{
 "cells": [
  {
   "cell_type": "code",
   "execution_count": 1,
   "id": "3e4eba35-c438-46d4-848f-423975dac776",
   "metadata": {},
   "outputs": [
    {
     "name": "stdout",
     "output_type": "stream",
     "text": [
      "test\n"
     ]
    }
   ],
   "source": [
    "print('test')"
   ]
  },
  {
   "cell_type": "markdown",
   "id": "61026f3f-adfa-41af-9d57-cf3cf6617d30",
   "metadata": {},
   "source": [
    "*Я добавил новую ветку test_branch*"
   ]
  },
  {
   "cell_type": "code",
   "execution_count": null,
   "id": "0d5d9545-cf20-4072-bbb4-fa08cde5f59e",
   "metadata": {},
   "outputs": [],
   "source": []
  }
 ],
 "metadata": {
  "kernelspec": {
   "display_name": "Python 3 (ipykernel)",
   "language": "python",
   "name": "python3"
  },
  "language_info": {
   "codemirror_mode": {
    "name": "ipython",
    "version": 3
   },
   "file_extension": ".py",
   "mimetype": "text/x-python",
   "name": "python",
   "nbconvert_exporter": "python",
   "pygments_lexer": "ipython3",
   "version": "3.12.0"
  }
 },
 "nbformat": 4,
 "nbformat_minor": 5
}
